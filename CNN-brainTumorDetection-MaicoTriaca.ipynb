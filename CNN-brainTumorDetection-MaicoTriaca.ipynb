{
 "cells": [
  {
   "cell_type": "code",
   "execution_count": 1,
   "metadata": {},
   "outputs": [],
   "source": [
    "import os\n",
    "import cv2\n",
    "import imutils\n",
    "import random\n",
    "import numpy as np\n",
    "import matplotlib.pyplot as plt\n",
    "import tensorflow as tf\n",
    "from tensorflow.keras.layers import GlobalAveragePooling2D, Input, BatchNormalization, Dense, Flatten, Dropout\n",
    "from tensorflow.keras.models import Model\n",
    "from tensorflow.keras.applications.densenet import DenseNet169, preprocess_input\n",
    "from tensorflow.keras.optimizers import Adam\n",
    "from sklearn.metrics import classification_report, confusion_matrix\n",
    "from sklearn.model_selection import train_test_split\n",
    "import itertools"
   ]
  },
  {
   "cell_type": "code",
   "execution_count": 2,
   "metadata": {},
   "outputs": [],
   "source": [
    "def CriarDataset(diretorio, classes, imagem_dim=200):\n",
    "    \"\"\"\n",
    "    Funcao para criar o conjunto de dados, separando os dados com seus respectivos rotulos,\n",
    "    a partir do diretorio e o numero de classes informados\n",
    "    \n",
    "    Parameters:\n",
    "    -----------\n",
    "    diretorio: string\n",
    "        Diretorio (path) do objeto de estudo\n",
    "        \n",
    "    classes: list\n",
    "        Contém os rotulos que compoem a classificacao dos dados\n",
    "        \n",
    "    imagem_dim: int\n",
    "        Dimensão das imagens de saída \n",
    "        \n",
    "    Return\n",
    "    -----------\n",
    "    X: list\n",
    "        Conjunto de dados em escala de cinza\n",
    "    \n",
    "    y: list\n",
    "        Rotulos referentes ao conjunto de dados\n",
    "        \n",
    "    \"\"\"\n",
    "    dataset = []\n",
    "    X = []\n",
    "    y = []\n",
    "    for classe in classes:\n",
    "        path = os.path.join(diretorio, classe)\n",
    "        classe_num = classes.index(classe)\n",
    "        for imagem in os.listdir(path):\n",
    "            img_array = cv2.imread(os.path.join(path, imagem), cv2.IMREAD_GRAYSCALE)\n",
    "            #img_redim = cv2.resize(img_array, (imagem_dim, imagem_dim))\n",
    "            dataset.append([img_array, classe_num])\n",
    "    \n",
    "    random.seed(19)\n",
    "    random.shuffle(dataset)\n",
    "    for amostras, label in dataset:\n",
    "        X.append(amostras)\n",
    "        y.append(label)\n",
    "    \n",
    "    return X, y"
   ]
  },
  {
   "cell_type": "code",
   "execution_count": 3,
   "metadata": {},
   "outputs": [],
   "source": [
    "diretorio = \"D:/Datasets/br35h-brain-tumor\" #Alterar para diretorio local\n",
    "classes = [\"yes\", \"no\"]\n",
    "imagem_dim = 224 #Dimensoes recomendadas para arquitetura estado-da-arte DenseNet169\n",
    "\n",
    "X, y = CriarDataset(diretorio, classes, imagem_dim)\n",
    "\n",
    "#X = np.array(X).reshape(-1, imagem_dim, imagem_dim, 1)\n",
    "\n",
    "y = np.array(y)"
   ]
  },
  {
   "cell_type": "code",
   "execution_count": 4,
   "metadata": {},
   "outputs": [],
   "source": [
    "def RemoverExterno(imagem):\n",
    "    \"\"\"\n",
    "    Funcao de pre-processamento, responsavel por calcular os pontos extremos da imagem \n",
    "    de Ressonancia Magnetica fornecida, eliminando informacoes desnecessarias\n",
    "    \n",
    "    Parameters:\n",
    "    -----------\n",
    "    imagem: numpy.ndarray\n",
    "        Imagem que sofrerá o pre-processamento\n",
    "        \n",
    "    Return\n",
    "    -----------\n",
    "    imagem_cortada: numpy.ndarray\n",
    "        Imagem com a retirada de espacos em preto, tipicos de Ressonancia Magnetica\n",
    "        \n",
    "    \"\"\"\n",
    "    cinza = cv2.GaussianBlur(imagem, (5, 5), 0)\n",
    "    \n",
    "    threshold = cv2.threshold(cinza, 45, 255, cv2.THRESH_BINARY)[1]\n",
    "    threshold_pos = cv2.erode(threshold, None, iterations=2)\n",
    "    threshold_pos = cv2.dilate(threshold_pos, None, iterations=2)\n",
    "    \n",
    "    contorno = cv2.findContours(threshold_pos.copy(), cv2.RETR_EXTERNAL, cv2.CHAIN_APPROX_SIMPLE)\n",
    "    contorno = imutils.grab_contours(contorno)\n",
    "    pontos_extremos = max(contorno, key=cv2.contourArea)\n",
    "    \n",
    "    ponto_esquerdo = tuple(pontos_extremos[pontos_extremos[:, :, 0].argmin()][0])\n",
    "    ponto_direito = tuple(pontos_extremos[pontos_extremos[:, :, 0].argmax()][0])\n",
    "    ponto_superior = tuple(pontos_extremos[pontos_extremos[:, :, 1].argmin()][0])\n",
    "    ponto_inferior = tuple(pontos_extremos[pontos_extremos[:, :, 1].argmax()][0])\n",
    "\n",
    "    imagem_cortada = imagem[ponto_superior[1]:ponto_inferior[1], ponto_esquerdo[0]:ponto_direito[0]]\n",
    "    imagem_cortada = cv2.resize(imagem_cortada, (imagem_dim, imagem_dim))\n",
    "    \n",
    "    return imagem_cortada"
   ]
  },
  {
   "cell_type": "code",
   "execution_count": 5,
   "metadata": {},
   "outputs": [],
   "source": [
    "X_preprocessado = []\n",
    "\n",
    "for indice in range(len(X)):\n",
    "    X_preprocessado.append(RemoverExterno(X[indice]))\n",
    "\n",
    "X_preprocessado = np.array(X_preprocessado).reshape(-1, imagem_dim, imagem_dim)/255\n",
    "\n",
    "#Adicionando canais extras, conforme solicita a arquitetura da DenseNet-169\n",
    "X_preprocessado = np.stack((X_preprocessado,)*3, axis=-1)"
   ]
  },
  {
   "cell_type": "code",
   "execution_count": 6,
   "metadata": {},
   "outputs": [
    {
     "name": "stdout",
     "output_type": "stream",
     "text": [
      "1500 ocorrências de imagens de RM com tumores cerebrais\n",
      "1500 ocorrências de imagens de RM sem tumores cerebrais\n",
      "3000 imagens de RM contidas no dataset Br35H\n"
     ]
    }
   ],
   "source": [
    "print(f\"{np.count_nonzero(y==0)} ocorrências de imagens de RM com tumores cerebrais\")\n",
    "print(f\"{np.count_nonzero(y==1)} ocorrências de imagens de RM sem tumores cerebrais\")\n",
    "print(f\"{len(y)} imagens de RM contidas no dataset Br35H\")"
   ]
  },
  {
   "cell_type": "code",
   "execution_count": 7,
   "metadata": {},
   "outputs": [],
   "source": [
    "#Divisao de 80% dos dados para treinamento\n",
    "X_train, X_sobra, y_train, y_sobra = train_test_split(X_preprocessado, y, train_size=0.8, random_state=19)\n",
    "\n",
    "#Divisao dos 20% dos dados restantes em validacao e teste\n",
    "X_valid, X_test, y_valid, y_test = train_test_split(X_sobra, y_sobra, test_size=0.5)"
   ]
  },
  {
   "cell_type": "code",
   "execution_count": 8,
   "metadata": {},
   "outputs": [
    {
     "name": "stdout",
     "output_type": "stream",
     "text": [
      "Imagens de treino:  2400\n",
      "Imagens de validação:  300\n",
      "Imagens de teste:  300\n"
     ]
    }
   ],
   "source": [
    "print(\"Imagens de treino: \", len(X_train))\n",
    "print(\"Imagens de validação: \", len(X_valid))\n",
    "print(\"Imagens de teste: \", len(X_test))"
   ]
  },
  {
   "cell_type": "code",
   "execution_count": 9,
   "metadata": {},
   "outputs": [],
   "source": [
    "#Instanciando modelo a partir de DenseNet-169\n",
    "densenet169_model=DenseNet169(input_shape=(imagem_dim, imagem_dim, 3), weights='imagenet', include_top=False, classes=2)\n",
    "\n",
    "for layer in densenet169_model.layers:\n",
    "    layer.trainable=False"
   ]
  },
  {
   "cell_type": "code",
   "execution_count": 10,
   "metadata": {},
   "outputs": [],
   "source": [
    "OPT=Adam(learning_rate=1e-5)\n",
    "\n",
    "#Configurando camadas de entrada\n",
    "in_layer=Input(shape=(imagem_dim, imagem_dim, 3), dtype=tf.uint8)\n",
    "x=tf.cast(in_layer, tf.float32)\n",
    "#Pre-processamento unico para DenseNet-169\n",
    "x=preprocess_input(x)\n",
    "x=densenet169_model(x, training=False)\n",
    "#Criando camadas que seguem o modelo\n",
    "x=GlobalAveragePooling2D()(x)\n",
    "batch_norm=BatchNormalization()(x)\n",
    "drop_out1=Dropout(0.3)(batch_norm)\n",
    "dense_layer=Dense(64, activation='relu')(drop_out1) #, kernel_initializer='he_normal'\n",
    "drop_out2=Dropout(0.3)(dense_layer)\n",
    "dense_layer2=Dense(32, activation='relu')(drop_out2) #, kernel_initializer='he_normal'\n",
    "out_layer=Dense(1, activation='sigmoid')(dense_layer2)\n",
    "\n",
    "# Instanciando o modelo final com as devidas alteracoes\n",
    "model=Model(inputs=in_layer, outputs=out_layer)\n",
    "\n",
    "\n",
    "model.compile(loss=\"binary_crossentropy\",\n",
    "              optimizer=OPT, \n",
    "              metrics=['accuracy'])"
   ]
  },
  {
   "cell_type": "code",
   "execution_count": 11,
   "metadata": {
    "collapsed": true
   },
   "outputs": [
    {
     "name": "stdout",
     "output_type": "stream",
     "text": [
      "Model: \"functional_1\"\n",
      "_________________________________________________________________\n",
      "Layer (type)                 Output Shape              Param #   \n",
      "=================================================================\n",
      "input_2 (InputLayer)         [(None, 224, 224, 3)]     0         \n",
      "_________________________________________________________________\n",
      "tf_op_layer_Cast (TensorFlow [(None, 224, 224, 3)]     0         \n",
      "_________________________________________________________________\n",
      "tf_op_layer_RealDiv (TensorF [(None, 224, 224, 3)]     0         \n",
      "_________________________________________________________________\n",
      "tf_op_layer_BiasAdd (TensorF [(None, 224, 224, 3)]     0         \n",
      "_________________________________________________________________\n",
      "tf_op_layer_RealDiv_1 (Tenso [(None, 224, 224, 3)]     0         \n",
      "_________________________________________________________________\n",
      "densenet169 (Functional)     (None, 7, 7, 1664)        12642880  \n",
      "_________________________________________________________________\n",
      "global_average_pooling2d (Gl (None, 1664)              0         \n",
      "_________________________________________________________________\n",
      "batch_normalization (BatchNo (None, 1664)              6656      \n",
      "_________________________________________________________________\n",
      "dropout (Dropout)            (None, 1664)              0         \n",
      "_________________________________________________________________\n",
      "dense (Dense)                (None, 64)                106560    \n",
      "_________________________________________________________________\n",
      "dropout_1 (Dropout)          (None, 64)                0         \n",
      "_________________________________________________________________\n",
      "dense_1 (Dense)              (None, 32)                2080      \n",
      "_________________________________________________________________\n",
      "dense_2 (Dense)              (None, 1)                 33        \n",
      "=================================================================\n",
      "Total params: 12,758,209\n",
      "Trainable params: 112,001\n",
      "Non-trainable params: 12,646,208\n",
      "_________________________________________________________________\n"
     ]
    }
   ],
   "source": [
    "model.summary()"
   ]
  },
  {
   "cell_type": "code",
   "execution_count": 12,
   "metadata": {},
   "outputs": [
    {
     "name": "stdout",
     "output_type": "stream",
     "text": [
      "Epoch 1/30\n",
      "  2/150 [..............................] - ETA: 11s - loss: 0.7037 - accuracy: 0.4375WARNING:tensorflow:Callbacks method `on_train_batch_end` is slow compared to the batch time (batch time: 0.0300s vs `on_train_batch_end` time: 0.1120s). Check your callbacks.\n",
      "150/150 [==============================] - 30s 200ms/step - loss: 0.6913 - accuracy: 0.4979 - val_loss: 0.6925 - val_accuracy: 0.4667\n",
      "Epoch 2/30\n",
      "150/150 [==============================] - 24s 157ms/step - loss: 0.6718 - accuracy: 0.5496 - val_loss: 0.6773 - val_accuracy: 0.6200\n",
      "Epoch 3/30\n",
      "150/150 [==============================] - 24s 157ms/step - loss: 0.6567 - accuracy: 0.5929 - val_loss: 0.6561 - val_accuracy: 0.6600\n",
      "Epoch 4/30\n",
      "150/150 [==============================] - 24s 157ms/step - loss: 0.6496 - accuracy: 0.6129 - val_loss: 0.6332 - val_accuracy: 0.6733\n",
      "Epoch 5/30\n",
      "150/150 [==============================] - 24s 158ms/step - loss: 0.6399 - accuracy: 0.6250 - val_loss: 0.6199 - val_accuracy: 0.6733\n",
      "Epoch 6/30\n",
      "150/150 [==============================] - 24s 157ms/step - loss: 0.6428 - accuracy: 0.6183 - val_loss: 0.6131 - val_accuracy: 0.6733\n",
      "Epoch 7/30\n",
      "150/150 [==============================] - 24s 157ms/step - loss: 0.6395 - accuracy: 0.6317 - val_loss: 0.6090 - val_accuracy: 0.6733\n",
      "Epoch 8/30\n",
      "150/150 [==============================] - 24s 158ms/step - loss: 0.6301 - accuracy: 0.6388 - val_loss: 0.6060 - val_accuracy: 0.6700\n",
      "Epoch 9/30\n",
      "150/150 [==============================] - 24s 158ms/step - loss: 0.6314 - accuracy: 0.6458 - val_loss: 0.6037 - val_accuracy: 0.6667\n",
      "Epoch 10/30\n",
      "150/150 [==============================] - 24s 158ms/step - loss: 0.6290 - accuracy: 0.6400 - val_loss: 0.6014 - val_accuracy: 0.6667\n",
      "Epoch 11/30\n",
      "150/150 [==============================] - 24s 158ms/step - loss: 0.6305 - accuracy: 0.6396 - val_loss: 0.5990 - val_accuracy: 0.6633\n",
      "Epoch 12/30\n",
      "150/150 [==============================] - 24s 157ms/step - loss: 0.6210 - accuracy: 0.6579 - val_loss: 0.5970 - val_accuracy: 0.6633\n",
      "Epoch 13/30\n",
      "150/150 [==============================] - 24s 157ms/step - loss: 0.6227 - accuracy: 0.6525 - val_loss: 0.5953 - val_accuracy: 0.6667\n",
      "Epoch 14/30\n",
      "150/150 [==============================] - 24s 157ms/step - loss: 0.6250 - accuracy: 0.6433 - val_loss: 0.5925 - val_accuracy: 0.6700\n",
      "Epoch 15/30\n",
      "150/150 [==============================] - 24s 157ms/step - loss: 0.6116 - accuracy: 0.6538 - val_loss: 0.5913 - val_accuracy: 0.6700\n",
      "Epoch 16/30\n",
      "150/150 [==============================] - 24s 157ms/step - loss: 0.6157 - accuracy: 0.6571 - val_loss: 0.5896 - val_accuracy: 0.6733\n",
      "Epoch 17/30\n",
      "150/150 [==============================] - 24s 157ms/step - loss: 0.6139 - accuracy: 0.6550 - val_loss: 0.5871 - val_accuracy: 0.6733\n",
      "Epoch 18/30\n",
      "150/150 [==============================] - 24s 157ms/step - loss: 0.6103 - accuracy: 0.6629 - val_loss: 0.5853 - val_accuracy: 0.6767\n",
      "Epoch 19/30\n",
      "150/150 [==============================] - 24s 157ms/step - loss: 0.6087 - accuracy: 0.6642 - val_loss: 0.5838 - val_accuracy: 0.6767\n",
      "Epoch 20/30\n",
      "150/150 [==============================] - 24s 157ms/step - loss: 0.6109 - accuracy: 0.6654 - val_loss: 0.5816 - val_accuracy: 0.6800\n",
      "Epoch 21/30\n",
      "150/150 [==============================] - 24s 157ms/step - loss: 0.6070 - accuracy: 0.6600 - val_loss: 0.5804 - val_accuracy: 0.6833\n",
      "Epoch 22/30\n",
      "150/150 [==============================] - 24s 157ms/step - loss: 0.6016 - accuracy: 0.6625 - val_loss: 0.5796 - val_accuracy: 0.6833\n",
      "Epoch 23/30\n",
      "150/150 [==============================] - 24s 157ms/step - loss: 0.6050 - accuracy: 0.6654 - val_loss: 0.5780 - val_accuracy: 0.6833\n",
      "Epoch 24/30\n",
      "150/150 [==============================] - 24s 157ms/step - loss: 0.6001 - accuracy: 0.6712 - val_loss: 0.5760 - val_accuracy: 0.6833\n",
      "Epoch 25/30\n",
      "150/150 [==============================] - 24s 157ms/step - loss: 0.5970 - accuracy: 0.6787 - val_loss: 0.5749 - val_accuracy: 0.6833\n",
      "Epoch 26/30\n",
      "150/150 [==============================] - 24s 157ms/step - loss: 0.6005 - accuracy: 0.6642 - val_loss: 0.5737 - val_accuracy: 0.6833\n",
      "Epoch 27/30\n",
      "150/150 [==============================] - 24s 157ms/step - loss: 0.5997 - accuracy: 0.6679 - val_loss: 0.5719 - val_accuracy: 0.6867\n",
      "Epoch 28/30\n",
      "150/150 [==============================] - 24s 157ms/step - loss: 0.5984 - accuracy: 0.6683 - val_loss: 0.5705 - val_accuracy: 0.6867\n",
      "Epoch 29/30\n",
      "150/150 [==============================] - 24s 157ms/step - loss: 0.5959 - accuracy: 0.6667 - val_loss: 0.5693 - val_accuracy: 0.6900\n",
      "Epoch 30/30\n",
      "150/150 [==============================] - 24s 157ms/step - loss: 0.5989 - accuracy: 0.6696 - val_loss: 0.5675 - val_accuracy: 0.6900\n"
     ]
    }
   ],
   "source": [
    "results = model.fit(x=X_train, y=y_train, epochs=30, validation_data=(X_valid, y_valid), batch_size=16)"
   ]
  },
  {
   "cell_type": "code",
   "execution_count": 18,
   "metadata": {},
   "outputs": [
    {
     "data": {
      "image/png": "[encoded data removed]",
      "text/plain": [
       "<Figure size 1008x360 with 2 Axes>"
      ]
     },
     "metadata": {
      "needs_background": "light"
     },
     "output_type": "display_data"
    },
    {
     "data": {
      "text/plain": [
       "<Figure size 432x288 with 0 Axes>"
      ]
     },
     "metadata": {},
     "output_type": "display_data"
    }
   ],
   "source": [
    "plt.figure(figsize=(14,5))\n",
    "\n",
    "plt.subplot(121)\n",
    "plt.ylabel('Acurácia')\n",
    "plt.xlabel('Épocas')\n",
    "plt.plot(results.history['accuracy'])\n",
    "plt.plot(results.history['val_accuracy'])\n",
    "plt.legend(['Treino', 'Validação'], loc='upper left')\n",
    "\n",
    "plt.subplot(122)\n",
    "plt.ylabel('Função de Perda')\n",
    "plt.xlabel('Épocas')\n",
    "plt.plot(results.history['loss'])\n",
    "plt.plot(results.history['val_loss'])\n",
    "plt.legend(['Treino', 'Validação'], loc='upper left')\n",
    "\n",
    "plt.show()\n",
    "#plt.savefig('acc-loss_graphs.png')"
   ]
  },
  {
   "cell_type": "code",
   "execution_count": 14,
   "metadata": {},
   "outputs": [
    {
     "name": "stdout",
     "output_type": "stream",
     "text": [
      "              precision    recall  f1-score   support\n",
      "\n",
      "         yes       0.84      0.42      0.56       147\n",
      "          no       0.62      0.92      0.74       153\n",
      "\n",
      "    accuracy                           0.68       300\n",
      "   macro avg       0.73      0.67      0.65       300\n",
      "weighted avg       0.73      0.68      0.65       300\n",
      "\n"
     ]
    }
   ],
   "source": [
    "# Avaliacoes sobre o modelo\n",
    "\n",
    "# Prevendo a propabilidade da distribuicao do dataset\n",
    "prediction=model.predict(X_test)#, verbose=1)\n",
    "\n",
    "# Pegando a classe com maior probabilidade para cada exemplo\n",
    "#y_pred=np.argmax(prediction, axis=1)\n",
    "y_pred=np.round(prediction)\n",
    "\n",
    "# Gerando o relatorio de classificacao\n",
    "print(classification_report(y_test, y_pred, target_names=['yes', 'no']))"
   ]
  },
  {
   "cell_type": "code",
   "execution_count": 26,
   "metadata": {},
   "outputs": [
    {
     "data": {
      "image/png": "[encoded data removed]",
      "text/plain": [
       "<Figure size 432x288 with 1 Axes>"
      ]
     },
     "metadata": {
      "needs_background": "light"
     },
     "output_type": "display_data"
    }
   ],
   "source": [
    "# Elaborando plot para matriz de confusão\n",
    "class_names=['yes', 'no']\n",
    "cm=confusion_matrix(y_test, y_pred)\n",
    "title=\"Matriz de confusão\"\n",
    "plt.imshow(cm, interpolation='nearest', cmap=plt.cm.Blues)\n",
    "plt.title(title)\n",
    "tick_marks=np.arange(len(classes))\n",
    "plt.xticks(tick_marks, classes)\n",
    "plt.yticks(tick_marks, classes)\n",
    "thresh=cm.max()/2\n",
    "\n",
    "for i, j in itertools.product(range(cm.shape[0]), range(cm.shape[1])):\n",
    "    plt.text(j, i, format(cm[i, j], 'd'),\n",
    "             horizontalalignment=\"center\",\n",
    "             color=\"black\")\n",
    "             #color=\"white\" if cm[i, j] > thresh else \"black\")\n",
    "\n",
    "plt.ylabel('True label')\n",
    "plt.xlabel('Predicted label')\n",
    "plt.tight_layout()"
   ]
  },
  {
   "cell_type": "code",
   "execution_count": 27,
   "metadata": {},
   "outputs": [
    {
     "name": "stdout",
     "output_type": "stream",
     "text": [
      "Métrica de Análise\n",
      "\n",
      "Acurácia: 67.67 %\n",
      "Precisão: 83.78 %\n",
      "Sensibilidade: 42.18 %\n",
      "Especificidade: 92.16 %\n"
     ]
    }
   ],
   "source": [
    "#Gerando métricas de análise mais precisas\n",
    "tp = cm[0][0]\n",
    "fn = cm[0][1]\n",
    "fp = cm[1][0]\n",
    "tn = cm[1][1]\n",
    "\n",
    "acc = ((tp+tn)*100)/np.sum(cm)\n",
    "preci = (tp*100)/(tp+fp)\n",
    "sensi = (tp*100/(tp+fn))\n",
    "speci = (tn*100)/(fp+tn)\n",
    "\n",
    "print('Métrica de Análise\\n')\n",
    "print(f'Acurácia: {acc:.2f} %')\n",
    "print(f'Precisão: {preci:.2f} %')\n",
    "\n",
    "print(f'Sensibilidade: {sensi:.2f} %')\n",
    "print(f'Especificidade: {speci:.2f} %')"
   ]
  },
  {
   "cell_type": "code",
   "execution_count": null,
   "metadata": {},
   "outputs": [],
   "source": []
  }
 ],
 "metadata": {
  "kernelspec": {
   "display_name": "Python 3.8.5 (neutroT)",
   "language": "python",
   "name": "neutrot"
  },
  "language_info": {
   "codemirror_mode": {
    "name": "ipython",
    "version": 3
   },
   "file_extension": ".py",
   "mimetype": "text/x-python",
   "name": "python",
   "nbconvert_exporter": "python",
   "pygments_lexer": "ipython3",
   "version": "3.8.5"
  }
 },
 "nbformat": 4,
 "nbformat_minor": 4
}
